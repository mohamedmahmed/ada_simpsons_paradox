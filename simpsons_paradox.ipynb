{
 "cells": [
  {
   "cell_type": "markdown",
   "metadata": {
    "collapsed": true
   },
   "source": [
    "# Simpson's Paradox\n",
    "Use `admission_data.csv` for this exercise."
   ]
  },
  {
   "cell_type": "code",
   "execution_count": 2,
   "metadata": {},
   "outputs": [],
   "source": [
    "import numpy as np\n",
    "import pandas as pd"
   ]
  },
  {
   "cell_type": "code",
   "execution_count": 3,
   "metadata": {},
   "outputs": [
    {
     "data": {
      "text/html": [
       "<div>\n",
       "<style scoped>\n",
       "    .dataframe tbody tr th:only-of-type {\n",
       "        vertical-align: middle;\n",
       "    }\n",
       "\n",
       "    .dataframe tbody tr th {\n",
       "        vertical-align: top;\n",
       "    }\n",
       "\n",
       "    .dataframe thead th {\n",
       "        text-align: right;\n",
       "    }\n",
       "</style>\n",
       "<table border=\"1\" class=\"dataframe\">\n",
       "  <thead>\n",
       "    <tr style=\"text-align: right;\">\n",
       "      <th></th>\n",
       "      <th>student_id</th>\n",
       "      <th>gender</th>\n",
       "      <th>major</th>\n",
       "      <th>admitted</th>\n",
       "    </tr>\n",
       "  </thead>\n",
       "  <tbody>\n",
       "    <tr>\n",
       "      <th>0</th>\n",
       "      <td>35377</td>\n",
       "      <td>female</td>\n",
       "      <td>Chemistry</td>\n",
       "      <td>False</td>\n",
       "    </tr>\n",
       "    <tr>\n",
       "      <th>1</th>\n",
       "      <td>56105</td>\n",
       "      <td>male</td>\n",
       "      <td>Physics</td>\n",
       "      <td>True</td>\n",
       "    </tr>\n",
       "    <tr>\n",
       "      <th>2</th>\n",
       "      <td>31441</td>\n",
       "      <td>female</td>\n",
       "      <td>Chemistry</td>\n",
       "      <td>False</td>\n",
       "    </tr>\n",
       "    <tr>\n",
       "      <th>3</th>\n",
       "      <td>51765</td>\n",
       "      <td>male</td>\n",
       "      <td>Physics</td>\n",
       "      <td>True</td>\n",
       "    </tr>\n",
       "    <tr>\n",
       "      <th>4</th>\n",
       "      <td>53714</td>\n",
       "      <td>female</td>\n",
       "      <td>Physics</td>\n",
       "      <td>True</td>\n",
       "    </tr>\n",
       "  </tbody>\n",
       "</table>\n",
       "</div>"
      ],
      "text/plain": [
       "   student_id  gender      major  admitted\n",
       "0       35377  female  Chemistry     False\n",
       "1       56105    male    Physics      True\n",
       "2       31441  female  Chemistry     False\n",
       "3       51765    male    Physics      True\n",
       "4       53714  female    Physics      True"
      ]
     },
     "execution_count": 3,
     "metadata": {},
     "output_type": "execute_result"
    }
   ],
   "source": [
    "# Load and view first few lines of dataset\n",
    "df= pd.read_csv('admission_data.csv')\n",
    "df.head()"
   ]
  },
  {
   "cell_type": "markdown",
   "metadata": {},
   "source": [
    "### Proportion and admission rate for each gender"
   ]
  },
  {
   "cell_type": "code",
   "execution_count": 4,
   "metadata": {},
   "outputs": [
    {
     "name": "stdout",
     "output_type": "stream",
     "text": [
      "Proportion of students that are female: 0.514\n"
     ]
    }
   ],
   "source": [
    "# Proportion of students that are female\n",
    "print('Proportion of students that are female: {}'.format(len(df[df['gender']=='female'])/df.shape[0]))"
   ]
  },
  {
   "cell_type": "code",
   "execution_count": 5,
   "metadata": {},
   "outputs": [
    {
     "name": "stdout",
     "output_type": "stream",
     "text": [
      "Proportion of students that are male: 0.486\n"
     ]
    }
   ],
   "source": [
    "# Proportion of students that are male\n",
    "print('Proportion of students that are male: {}'.format(len(df[df['gender']=='male'])/df.shape[0]))"
   ]
  },
  {
   "cell_type": "code",
   "execution_count": 8,
   "metadata": {},
   "outputs": [
    {
     "name": "stdout",
     "output_type": "stream",
     "text": [
      " Admission rate for females: 0.28793774319066145\n"
     ]
    }
   ],
   "source": [
    "# Admission rate for females\n",
    "print(' Admission rate for females: {}'.format(len(df[(df['gender']=='female') & (df['admitted'])])/len(df[df['gender']=='female'])))"
   ]
  },
  {
   "cell_type": "code",
   "execution_count": 9,
   "metadata": {},
   "outputs": [
    {
     "name": "stdout",
     "output_type": "stream",
     "text": [
      " Admission rate for males: 0.48559670781893005\n"
     ]
    }
   ],
   "source": [
    "# Admission rate for males\n",
    "print(' Admission rate for males: {}'.format(len(df[(df['gender']=='male') & (df['admitted'])])/len(df[df['gender']=='male'])))"
   ]
  },
  {
   "cell_type": "markdown",
   "metadata": {},
   "source": [
    "### Proportion and admission rate for physics majors of each gender"
   ]
  },
  {
   "cell_type": "code",
   "execution_count": 10,
   "metadata": {},
   "outputs": [
    {
     "name": "stdout",
     "output_type": "stream",
     "text": [
      "proportion of female students majoring in physics 0.12062256809338522\n"
     ]
    }
   ],
   "source": [
    "# What proportion of female students are majoring in physics?\n",
    "print('proportion of female students majoring in physics {}'.format(len(df[(df['gender']=='female') & (df['major']=='Physics')])/len(df[df['gender']=='female'])))"
   ]
  },
  {
   "cell_type": "code",
   "execution_count": 11,
   "metadata": {},
   "outputs": [
    {
     "name": "stdout",
     "output_type": "stream",
     "text": [
      "proportion of male students majoring in physics 0.9259259259259259\n"
     ]
    }
   ],
   "source": [
    "# What proportion of male students are majoring in physics?\n",
    "print('proportion of male students majoring in physics {}'.format(len(df[(df['gender']=='male') & (df['major']=='Physics')])/len(df[df['gender']=='male'])))"
   ]
  },
  {
   "cell_type": "code",
   "execution_count": 15,
   "metadata": {},
   "outputs": [
    {
     "name": "stdout",
     "output_type": "stream",
     "text": [
      "Admission rate for female physics majors 0.7419354838709677\n"
     ]
    }
   ],
   "source": [
    "# Admission rate for female physics majors\n",
    "print('Admission rate for female physics majors {}'.format(len(df[(df['gender']=='female') & (df['major']=='Physics') & df['admitted']])/len(df[(df['gender']=='female') & (df['major']=='Physics')])))"
   ]
  },
  {
   "cell_type": "code",
   "execution_count": 16,
   "metadata": {},
   "outputs": [
    {
     "name": "stdout",
     "output_type": "stream",
     "text": [
      "Admission rate for male physics majors 0.5155555555555555\n"
     ]
    }
   ],
   "source": [
    "# Admission rate for male physics majors\n",
    "print('Admission rate for male physics majors {}'.format(len(df[(df['gender']=='male') & (df['major']=='Physics') & df['admitted']])/len(df[(df['gender']=='male') & (df['major']=='Physics')])))"
   ]
  },
  {
   "cell_type": "markdown",
   "metadata": {},
   "source": [
    "### Proportion and admission rate for chemistry majors of each gender"
   ]
  },
  {
   "cell_type": "code",
   "execution_count": 17,
   "metadata": {},
   "outputs": [
    {
     "name": "stdout",
     "output_type": "stream",
     "text": [
      "proportion of female students majoring in Chemistry 0.8793774319066148\n"
     ]
    }
   ],
   "source": [
    "# What proportion of female students are majoring in chemistry?\n",
    "print('proportion of female students majoring in Chemistry {}'.format(len(df[(df['gender']=='female') & (df['major']=='Chemistry')])/len(df[df['gender']=='female'])))"
   ]
  },
  {
   "cell_type": "code",
   "execution_count": 18,
   "metadata": {},
   "outputs": [
    {
     "name": "stdout",
     "output_type": "stream",
     "text": [
      "proportion of male students majoring in Chemistry 0.07407407407407407\n"
     ]
    }
   ],
   "source": [
    "# What proportion of male students are majoring in chemistry?\n",
    "print('proportion of male students majoring in Chemistry {}'.format(len(df[(df['gender']=='male') & (df['major']=='Chemistry')])/len(df[df['gender']=='male'])))"
   ]
  },
  {
   "cell_type": "code",
   "execution_count": 19,
   "metadata": {},
   "outputs": [
    {
     "name": "stdout",
     "output_type": "stream",
     "text": [
      "Admission rate for female Chemistry majors 0.22566371681415928\n"
     ]
    }
   ],
   "source": [
    "# Admission rate for female chemistry majors\n",
    "print('Admission rate for female Chemistry majors {}'.format(len(df[(df['gender']=='female') & (df['major']=='Chemistry') & df['admitted']])/len(df[(df['gender']=='female') & (df['major']=='Chemistry')])))"
   ]
  },
  {
   "cell_type": "code",
   "execution_count": 20,
   "metadata": {},
   "outputs": [
    {
     "name": "stdout",
     "output_type": "stream",
     "text": [
      "Admission rate for male Chemistry majors 0.1111111111111111\n"
     ]
    }
   ],
   "source": [
    "# Admission rate for male chemistry majors\n",
    "print('Admission rate for male Chemistry majors {}'.format(len(df[(df['gender']=='male') & (df['major']=='Chemistry') & df['admitted']])/len(df[(df['gender']=='male') & (df['major']=='Chemistry')])))"
   ]
  },
  {
   "cell_type": "markdown",
   "metadata": {},
   "source": [
    "### Admission rate for each major"
   ]
  },
  {
   "cell_type": "code",
   "execution_count": 21,
   "metadata": {},
   "outputs": [
    {
     "name": "stdout",
     "output_type": "stream",
     "text": [
      "Admission rate for physics majors 0.54296875\n"
     ]
    }
   ],
   "source": [
    "# Admission rate for physics majors\n",
    "print('Admission rate for physics majors {}'.format(len(df[(df['major']=='Physics') & (df['admitted'])])/ len(df[df['major']=='Physics'])))"
   ]
  },
  {
   "cell_type": "code",
   "execution_count": 22,
   "metadata": {},
   "outputs": [
    {
     "name": "stdout",
     "output_type": "stream",
     "text": [
      "Admission rate for physics majors 0.21721311475409835\n"
     ]
    }
   ],
   "source": [
    "# Admission rate for chemistry majors\n",
    "print('Admission rate for physics majors {}'.format(len(df[(df['major']=='Chemistry') & (df['admitted'])])/ len(df[df['major']=='Chemistry'])))"
   ]
  },
  {
   "cell_type": "code",
   "execution_count": null,
   "metadata": {},
   "outputs": [],
   "source": []
  }
 ],
 "metadata": {
  "kernelspec": {
   "display_name": "Python 3",
   "language": "python",
   "name": "python3"
  },
  "language_info": {
   "codemirror_mode": {
    "name": "ipython",
    "version": 3
   },
   "file_extension": ".py",
   "mimetype": "text/x-python",
   "name": "python",
   "nbconvert_exporter": "python",
   "pygments_lexer": "ipython3",
   "version": "3.6.3"
  }
 },
 "nbformat": 4,
 "nbformat_minor": 2
}
